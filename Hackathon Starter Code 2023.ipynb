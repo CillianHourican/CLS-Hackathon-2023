{
 "cells": [
  {
   "cell_type": "code",
   "execution_count": 1,
   "id": "8020941d",
   "metadata": {},
   "outputs": [],
   "source": [
    "import mesa"
   ]
  },
  {
   "cell_type": "markdown",
   "id": "e371d7bb",
   "metadata": {},
   "source": [
    "## Introduction (Alcohol Consumption Example)\n",
    "\n",
    "Alcohol consumption is a significant public health issue and a leading cause of preventable death and illness worldwide. The social environment, including peer norms and motives, is a crucial factor influencing alcohol consumption. Computational modeling provides a powerful tool for understanding the complex interplay between individual and social factors in shaping alcohol consumption behavior. In this hackathon, we will explore the role of social norms and motives in predicting alcohol consumption using agent-based modeling.\n",
    "\n",
    "## Setup:\n",
    "\n",
    "We will start by defining a Person class that represents an agent in our model. Each person has attributes such as their age, gender, and drinking behavior. We will use a simple approach where the person's drinking behavior is represented as a continuous variable between 0 and 1, where 0 represents abstaining from alcohol, and 1 represents heavy drinking. The person's perception of social norms and motives will also be represented as continuous variables between 0 and 1.\n",
    "\n",
    "Next, we will define a SocialNorms class that represents the agent-based model. The model will consist of a population of Person agents who are connected to each other through social networks. The social networks will be represented as a graph, where each person's connections will be determined by the type of relationship they have with others (e.g., friends, family, colleagues).\n",
    "\n",
    "The SocialNorms model will simulate the spread of social norms and motives within the population over time. At each time step, each person's drinking behavior will be updated based on their current perception of social norms and motives and their susceptibility to social influence. We will use a simple model where the person's drinking behavior is influenced by the average drinking behavior of their social network, with the strength of influence depending on the type of relationship (e.g., close friends have a stronger influence than distant acquaintances)."
   ]
  },
  {
   "cell_type": "markdown",
   "id": "2dc3b16e",
   "metadata": {},
   "source": [
    "We will start with the person class"
   ]
  },
  {
   "cell_type": "code",
   "execution_count": null,
   "id": "7f0d5689",
   "metadata": {},
   "outputs": [],
   "source": [
    "class Person:\n",
    "    def __init__(self, age, gender, drinking_behavior, social_norms, social_motives):\n",
    "        self.age = age\n",
    "        self.gender = gender\n",
    "        self.drinking_behavior = drinking_behavior\n",
    "        self.social_norms = social_norms\n",
    "        self.social_motives = social_motives\n"
   ]
  },
  {
   "cell_type": "markdown",
   "id": "f745d092",
   "metadata": {},
   "source": [
    "Next, we will define the SocialNorms class:"
   ]
  },
  {
   "cell_type": "code",
   "execution_count": null,
   "id": "cd6e6ff2",
   "metadata": {},
   "outputs": [],
   "source": [
    "from mesa import Model, Agent\n",
    "from mesa.time import RandomActivation\n",
    "from mesa.space import NetworkGrid\n",
    "import networkx as nx\n",
    "import random\n",
    "\n",
    "class SocialNorms(Model):\n",
    "    def __init__(self, num_agents):\n",
    "        self.num_agents = num_agents\n",
    "        self.schedule = RandomActivation(self)\n",
    "        self.grid = NetworkGrid(nx.Graph())\n",
    "        self.network = self.create_social_network()\n",
    "        self.create_agents()\n",
    "\n",
    "    def create_social_network(self):\n",
    "        network = nx.Graph()\n",
    "        network.add_nodes_from(range(self.num_agents))\n",
    "        for i in range(self.num_agents):\n",
    "            for j in range(i+1, self.num_agents):\n",
    "                if random.random() < 0.3:\n",
    "                    network.add_edge(i, j)\n",
    "        return network\n",
    "\n",
    "    def create_agents(self):\n",
    "        for i in range(self.num_agents):\n",
    "            age = random.randint(18, 65)\n",
    "            drinking_behavior = random.random()\n",
    "            social_norms = random.random()\n",
    "            social_motives = random.random()\n",
    "            agent = Person(age, gender, drinking_behavior, social_norms, social_motives)\n",
    "            self.schedule.add(agent)\n",
    "            self.grid.place_agent(agent, i)\n"
   ]
  },
  {
   "cell_type": "markdown",
   "id": "3c87a99f",
   "metadata": {},
   "source": [
    "Now, we will define the get_opinion function that updates each person's drinking behavior based on their current perception of social norms and motives:"
   ]
  },
  {
   "cell_type": "code",
   "execution_count": null,
   "id": "bb0f2583",
   "metadata": {},
   "outputs": [],
   "source": [
    "def get_opinion(self):\n",
    "    \"\"\"Calculate the agent's opinion on alcohol consumption based on their own \n",
    "    behavior and the behavior of their peers, taking into account their \n",
    "    susceptibility to social influence.\n",
    "    \"\"\"\n",
    "    peer_alcohol = [n.get_alcohol() for n in self.get_peers()]\n",
    "    num_peers = len(peer_alcohol)\n",
    "    \n",
    "    if self.alcohol:\n",
    "        # Agent drinks alcohol\n",
    "        if num_peers == 0:\n",
    "            # No peers to compare to\n",
    "            return 1\n",
    "        else:\n",
    "            # Compare to peers and adjust based on susceptibility to social influence\n",
    "            peer_avg = sum(peer_alcohol) / num_peers\n",
    "            return self.alcohol_influence * (self.alcohol / peer_avg) + (1 - self.alcohol_influence)\n",
    "    else:\n",
    "        # Agent does not drink alcohol\n",
    "        if num_peers == 0:\n",
    "            # No peers to compare to\n",
    "            return 0\n",
    "        else:\n",
    "            # Compare to peers and adjust based on susceptibility to social influence\n",
    "            peer_avg = sum(peer_alcohol) / num_peers\n",
    "            return self.alcohol_influence * (1 - self.alcohol / peer_avg) + (1 - self.alcohol_influence)\n"
   ]
  },
  {
   "cell_type": "markdown",
   "id": "aba44b25",
   "metadata": {},
   "source": [
    "Alcohol consumption is a complex behavior that is influenced by a multitude of factors, including individual differences in susceptibility to social influence, social norms, and social motives. Social norms, which are the unwritten rules of behavior that are followed by members of a group or society, can be strong predictors of alcohol consumption behavior among college students. \n",
    "\n",
    "For inspiration, see https://doi.org/10.1016/j.addbeh.2012.07.004). This study found that both descriptive norms (i.e., the perceived prevalence of alcohol consumption) and injunctive norms (i.e., the perceived approval of drinking by peers) independently predicted alcohol consumption among college students. Furthermore, injunctive norms were further divided into distal (socially distant peers) and proximal (socially close peers), and proximal injunctive norms were found to have a stronger effect on drinking behavior than distal injunctive norms.\n",
    "\n",
    "In this hackathon, we will create an Agent-Based Model (ABM) to investigate how social norms and individual differences in susceptibility to social influence affect alcohol consumption behavior. The model could also be expanded by adding constraints such as the accessibility of alcohol, then governments can regulate that by taking measures such as making it more expensive, banning it \n",
    "\n",
    "One idea is to model a population of college students who are connected to each other through social networks, and whose alcohol consumption behavior is influenced by their own behavior as well as the behavior of their peers."
   ]
  },
  {
   "cell_type": "markdown",
   "id": "11d19f96",
   "metadata": {},
   "source": [
    "We could define a Person class that represents a college student, and a SocialNorms class that represents the ABM. The Person class could have attributes such as alcohol consumption behavior, susceptibility to social influence, and social network connections. The SocialNorms class would create a population of Person agents, assign them to social networks, and simulate the spread of alcohol consumption behavior through the networks over time."
   ]
  },
  {
   "cell_type": "code",
   "execution_count": null,
   "id": "708cdb26",
   "metadata": {},
   "outputs": [],
   "source": []
  },
  {
   "cell_type": "markdown",
   "id": "e27c76c6",
   "metadata": {},
   "source": [
    "## Somne possible scenarios: Increased Alcohol Consumption\n",
    "Here are some basic scenarios a student may face that could cause them to think drinking more is the norm in the model:\n",
    "\n",
    "1. Peer pressure: A student is hanging out with friends who are heavy drinkers and encourages them to drink more, making them feel like they need to keep up with the group.\n",
    "\n",
    "2. Social media: A student sees posts on social media about their peers drinking heavily and having fun, which may make them feel like they're missing out or that drinking heavily is the norm.\n",
    "\n",
    "3. Campus culture: A student attends a college where heavy drinking is part of the campus culture, with frequent parties and events that promote excessive drinking.\n",
    "\n",
    "4. Binge-drinking as a coping mechanism: A student may be going through a difficult time, such as a breakup or academic stress, and turns to alcohol as a way to cope with their emotions.\n",
    "\n",
    "5. Misinformation: A student may believe false information about alcohol consumption, such as the belief that drinking more alcohol will help them have a better time.\n",
    "\n",
    "6. Boredom: If the student is feeling bored or unengaged, they may turn to alcohol as a way to pass the time and have fun.\n",
    "\n"
   ]
  },
  {
   "cell_type": "markdown",
   "id": "eb103252",
   "metadata": {},
   "source": [
    "## Somne possible scenarios: Decreased Alcohol Consumption\n",
    "Here are some basic scenarios that could influence a student to think drinking less is the norm:\n",
    "\n",
    "1. Attending a social event where alcohol consumption is not the main focus, such as a movie night or board game night, where other refreshments are provided instead of alcohol.\n",
    "\n",
    "2. Being part of a student group or club that prioritizes health and wellness, where members engage in activities and events that do not involve alcohol.\n",
    "\n",
    "3. Interacting with friends or peers who choose not to drink or prefer non-alcoholic beverages, and who do not judge others for doing the same.\n",
    "\n",
    "4. Experiencing positive social reinforcement for drinking less, such as receiving compliments on being responsible or making healthy choices.\n",
    "\n",
    "5. Being exposed to media or advertising campaigns that promote moderation and responsible drinking behaviors, and highlight the negative consequences of excessive alcohol consumption.\n",
    "\n",
    "Here are some basic scenarios that could cause a student to drink less in the model:\n",
    "\n",
    "1. The student's close friends or roommates express concern about their drinking and encourage them to cut back or seek help.\n",
    "2. The student experiences negative consequences from drinking, such as poor academic performance or a DUI, and decides to cut back.\n",
    "3. The student learns about the negative health effects of excessive alcohol consumption and decides to drink less for their own well-being.\n",
    "4. The student becomes involved in a new activity or group that does not involve alcohol, and finds that they have less desire to drink as a result.\n",
    "5. The student's financial situation changes, making it more difficult for them to afford alcohol regularly."
   ]
  },
  {
   "cell_type": "code",
   "execution_count": null,
   "id": "012d5cb1",
   "metadata": {},
   "outputs": [],
   "source": []
  }
 ],
 "metadata": {
  "kernelspec": {
   "display_name": "Python 3 (ipykernel)",
   "language": "python",
   "name": "python3"
  },
  "language_info": {
   "codemirror_mode": {
    "name": "ipython",
    "version": 3
   },
   "file_extension": ".py",
   "mimetype": "text/x-python",
   "name": "python",
   "nbconvert_exporter": "python",
   "pygments_lexer": "ipython3",
   "version": "3.10.10"
  }
 },
 "nbformat": 4,
 "nbformat_minor": 5
}
