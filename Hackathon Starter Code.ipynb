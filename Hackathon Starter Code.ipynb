{
 "cells": [
  {
   "cell_type": "code",
   "execution_count": 1,
   "id": "8020941d",
   "metadata": {},
   "outputs": [],
   "source": [
    "import mesa"
   ]
  },
  {
   "cell_type": "markdown",
   "id": "8801aa3b",
   "metadata": {},
   "source": [
    "## Introduction (Obesity Example)\n",
    "This code may help get you define an agent-based model to study the influence of social norms on obesity. The model simulates a population of people (agents) with various attributes such as age, gender, BMI, and social connections (family, colleagues, friends, hobbies, and self). The agents' BMI changes over time based on their diet and exercise habits, while their perception of obesity is influenced by their social connections. The social norms are modeled based on the perception of obesity of an agent's social connections, and the agent's perception of obesity is updated based on the perception of obesity of their social connections. The model outputs the count of agents in each BMI category (underweight, normal, overweight) at each step.\n",
    "\n",
    "The code imports the required libraries and defines the Person and SocialNorms classes as agents and the model, respectively, using the Mesa library. The Person class has attributes such as age, gender, BMI, and connections, along with methods to update BMI and perception of obesity. The SocialNorms class has parameters such as the number of people, average BMI, and connection probabilities, along with methods to create people, connect them, and initialize BMI. The step method updates the model by collecting data, updating agents' perceptions, and advancing the simulation by one time step."
   ]
  },
  {
   "cell_type": "code",
   "execution_count": 32,
   "id": "8feb2675",
   "metadata": {},
   "outputs": [],
   "source": [
    "from mesa import Agent, Model\n",
    "from mesa.datacollection import DataCollector\n",
    "from mesa.space import NetworkGrid\n",
    "from mesa.time import RandomActivation\n",
    "import networkx as nx\n",
    "import numpy as np\n",
    "\n",
    "\n",
    "class Person(Agent):\n",
    "    def __init__(self, unique_id, model, age, gender, bmi, connections):\n",
    "        super().__init__(unique_id, model)\n",
    "        self.age = age\n",
    "        self.gender = gender\n",
    "        self.bmi = bmi\n",
    "        self.connections = connections\n",
    "\n",
    "    def step(self):\n",
    "        self.update_bmi()\n",
    "        self.update_perception_of_obesity()\n",
    "\n",
    "    def update_bmi(self):\n",
    "        # Define how an agent's BMI changes over time\n",
    "        pass\n",
    "\n",
    "    def update_perception_of_obesity(self):\n",
    "        # Define how an agent's perception of obesity changes over time\n",
    "        pass\n",
    "\n",
    "class Person(Agent):\n",
    "    def __init__(self, unique_id, model, age, gender, bmi, connections):\n",
    "        super().__init__(unique_id, model)\n",
    "        self.age = age\n",
    "        self.gender = gender\n",
    "        self.bmi = bmi\n",
    "        self.connections = connections\n",
    "        self.perception_of_obesity = self.get_perception_of_obesity()\n",
    "\n",
    "    def get_perception_of_obesity(self):\n",
    "        if self.bmi < 18.5:\n",
    "            return 'underweight'\n",
    "        elif self.bmi < 25:\n",
    "            return 'normal'\n",
    "        elif self.bmi < 30:\n",
    "            return 'overweight'\n",
    "        else:\n",
    "            return 'obese'\n",
    "\n",
    "    def update_bmi(self):\n",
    "        # Define how an agent's BMI changes over time\n",
    "        # For example, BMI may increase or decrease by a random amount\n",
    "        # based on an agent's diet and exercise habits\n",
    "        delta_bmi = np.random.normal(loc=0, scale=0.1)\n",
    "        self.bmi += delta_bmi\n",
    "\n",
    "    def update_perception_of_obesity(self):\n",
    "        # Define how an agent's perception of obesity changes over time\n",
    "        # For example, an agent may become more concerned about their weight\n",
    "        # if they receive negative feedback from their social connections\n",
    "        # about their appearance or health\n",
    "        self.perception_of_obesity = self.get_perception_of_obesity()\n",
    "        for conn_type, conn_list in self.connections.items():\n",
    "            for conn in conn_list:\n",
    "                if conn is not None and conn.perception_of_obesity == 'obese':\n",
    "                    if conn_type == 'family':\n",
    "                        self.perception_of_obesity = 'obese'\n",
    "                    elif conn_type == 'colleagues':\n",
    "                        self.perception_of_obesity = 'overweight'\n",
    "                    elif conn_type == 'friends':\n",
    "                        self.perception_of_obesity = np.random.choice(['overweight', 'obese'],\n",
    "                                                                       p=[0.8, 0.2])\n",
    "                    elif conn_type == 'hobbies':\n",
    "                        self.perception_of_obesity = np.random.choice(['normal', 'overweight', 'obese'],\n",
    "                                                                       p=[0.5, 0.3, 0.2])\n",
    "\n",
    "\n",
    "class SocialNorms(Model):\n",
    "    def __init__(self, num_people, avg_bmi, family_conn_prob, colleague_conn_prob, friend_conn_prob, hobby_conn_prob):\n",
    "        self.num_people = num_people\n",
    "        self.avg_bmi = avg_bmi\n",
    "        self.family_conn_prob = family_conn_prob\n",
    "        self.colleague_conn_prob = colleague_conn_prob\n",
    "        self.friend_conn_prob = friend_conn_prob\n",
    "        self.hobby_conn_prob = hobby_conn_prob\n",
    "        self.schedule = RandomActivation(self)\n",
    "        self.grid = NetworkGrid(nx.Graph())\n",
    "        self.datacollector = DataCollector(\n",
    "            model_reporters={\n",
    "                \"Underweight\": lambda m: self.count_perception_of_obesity(m, 'underweight'),\n",
    "                \"Normal\": lambda m: self.count_perception_of_obesity(m, 'normal'),\n",
    "                \"Overweight\": lambda m: self.count_perception_of_obesity(m, 'overweight')\n",
    "            }\n",
    "        )\n",
    "        self.create_people()\n",
    "        self.connect_people()\n",
    "        self.initialize_bmi()\n",
    "\n",
    "    def connect_people(self):\n",
    "        for person in self.schedule.agents:\n",
    "            for other_person in self.schedule.agents:\n",
    "                if person != other_person:\n",
    "                    if np.random.random() < self.family_conn_prob:\n",
    "                        person.connections['family'].append(other_person)\n",
    "                    if np.random.random() < self.colleague_conn_prob:\n",
    "                        person.connections['colleagues'].append(other_person)\n",
    "                    if np.random.random() < self.friend_conn_prob:\n",
    "                        person.connections['friends'].append(other_person)\n",
    "                    if np.random.random() < self.hobby_conn_prob:\n",
    "                        person.connections['hobbies'].append(other_person)\n",
    "\n",
    "    def create_people(self):\n",
    "        for i in range(self.num_people):\n",
    "            age = np.random.normal(35, 15)\n",
    "            gender = np.random.choice(['male', 'female'])\n",
    "            bmi = np.random.normal(self.avg_bmi, 5)\n",
    "            connections = {'family': [], 'colleagues': [], 'friends': [], 'hobbies': [], 'self': None}\n",
    "            person = Person(i, self, age, gender, bmi, connections)\n",
    "            self.schedule.add(person)\n",
    "            if len(self.grid.G.nodes) > 0:\n",
    "                self.grid.place_agent(person, np.random.choice(list(self.grid.G.nodes)))\n",
    "\n",
    "\n",
    "\n",
    "    def initialize_bmi(self):\n",
    "        for person in self.schedule.agents:\n",
    "            while person.bmi < 15 or person.bmi > 40:\n",
    "                person.bmi = np.random.normal(self.avg_bmi, 2)\n",
    "\n",
    "    def step(self):\n",
    "        self.datacollector.collect(self)\n",
    "        self.schedule.step()\n",
    "\n",
    "    def count_perception_of_obesity(self, model, category):\n",
    "        count = 0\n",
    "        for person in model.schedule.agents:\n",
    "            if person.perception_of_obesity == category:\n",
    "                count += 1\n",
    "        return count\n"
   ]
  },
  {
   "cell_type": "code",
   "execution_count": 33,
   "id": "2536ef5f",
   "metadata": {},
   "outputs": [],
   "source": [
    "model = SocialNorms(num_people=100, avg_bmi=25, family_conn_prob=0.8,\n",
    "colleague_conn_prob=0.5, friend_conn_prob=0.5, hobby_conn_prob=0.2)\n",
    "\n",
    "for i in range(50):\n",
    "    model.step()"
   ]
  },
  {
   "cell_type": "code",
   "execution_count": 34,
   "id": "0d6fa4e1",
   "metadata": {},
   "outputs": [
    {
     "data": {
      "text/plain": [
       "<Axes: >"
      ]
     },
     "execution_count": 34,
     "metadata": {},
     "output_type": "execute_result"
    },
    {
     "data": {
      "image/png": "[encoded data removed]",
      "text/plain": [
       "<Figure size 640x480 with 1 Axes>"
      ]
     },
     "metadata": {},
     "output_type": "display_data"
    }
   ],
   "source": [
    "perception_data = model.datacollector.get_model_vars_dataframe()\n",
    "perception_data.plot()"
   ]
  },
  {
   "cell_type": "markdown",
   "id": "6c42fec1",
   "metadata": {},
   "source": [
    "In this very simple example, the proportions of 'Underweight', 'Normal', and 'Overweight' are fixed over time because they are based on the initial distribution of BMI in the population. As the model runs, people's BMIs may change, but the proportions of 'Underweight', 'Normal', and 'Overweight' will remain the same unless there are changes in the way people perceive obesity or in the way social norms are enforced."
   ]
  },
  {
   "cell_type": "markdown",
   "id": "7df725e2",
   "metadata": {},
   "source": [
    "### Additional behaviors or interactions that you may want to consider including in your social norms model:\n",
    "\n",
    "Health behaviors: You could model how agents' behaviors, such as physical activity, eating habits, or smoking, influence their BMI and how these behaviors are influenced by their social connections.\n",
    "\n",
    "Social influence: You could model how agents' social connections influence their attitudes and beliefs about obesity, and how this affects their BMI. For example, an agent may adopt the eating habits or physical activity levels of their social connections.\n",
    "\n",
    "Network dynamics: You could model how the social network changes over time and how this affects the spread of social norms related to obesity. For example, an agent may form new connections or sever existing ones based on their BMI or their social norms.\n",
    "\n",
    "Individual differences: You could model individual differences in susceptibility to social influence and how these differences affect the spread of social norms related to obesity. For example, some agents may be more or less susceptible to peer pressure than others.\n",
    "\n",
    "To make the model more interesting, we could introduce some additional factors that affect people's BMIs and their perception of obesity. For example, we could incorporate the influence of media and advertising on people's dietary habits, the availability of healthy food options in different social settings, or the impact of physical activity levels on BMI.\n",
    "\n",
    "Another option would be to introduce changes in social norms over time, such as shifts in cultural attitudes towards body size or changes in the influence of different social networks on people's perception of obesity. We could also model the effects of policies aimed at changing social norms, such as public health campaigns or regulations on food advertising.\n",
    "\n",
    "Incorporating these additional factors could make the model more realistic and dynamic, and allow us to explore the complex interactions between individual behaviors, social norms, and external influences on health outcomes.\n"
   ]
  },
  {
   "cell_type": "markdown",
   "id": "e371d7bb",
   "metadata": {},
   "source": [
    "## Introduction (Alcohol Consumption Example)\n",
    "\n",
    "Alcohol consumption is a significant public health issue and a leading cause of preventable death and illness worldwide. The social environment, including peer norms and motives, is a crucial factor influencing alcohol consumption. Computational modeling provides a powerful tool for understanding the complex interplay between individual and social factors in shaping alcohol consumption behavior. In this hackathon, we will explore the role of social norms and motives in predicting alcohol consumption using agent-based modeling.\n",
    "\n",
    "## Setup:\n",
    "\n",
    "We will start by defining a Person class that represents an agent in our model. Each person has attributes such as their age, gender, and drinking behavior. We will use a simple approach where the person's drinking behavior is represented as a continuous variable between 0 and 1, where 0 represents abstaining from alcohol, and 1 represents heavy drinking. The person's perception of social norms and motives will also be represented as continuous variables between 0 and 1.\n",
    "\n",
    "Next, we will define a SocialNorms class that represents the agent-based model. The model will consist of a population of Person agents who are connected to each other through social networks. The social networks will be represented as a graph, where each person's connections will be determined by the type of relationship they have with others (e.g., friends, family, colleagues).\n",
    "\n",
    "The SocialNorms model will simulate the spread of social norms and motives within the population over time. At each time step, each person's drinking behavior will be updated based on their current perception of social norms and motives and their susceptibility to social influence. We will use a simple model where the person's drinking behavior is influenced by the average drinking behavior of their social network, with the strength of influence depending on the type of relationship (e.g., close friends have a stronger influence than distant acquaintances)."
   ]
  },
  {
   "cell_type": "markdown",
   "id": "2dc3b16e",
   "metadata": {},
   "source": [
    "We will start with the person class"
   ]
  },
  {
   "cell_type": "code",
   "execution_count": null,
   "id": "7f0d5689",
   "metadata": {},
   "outputs": [],
   "source": [
    "class Person:\n",
    "    def __init__(self, age, gender, drinking_behavior, social_norms, social_motives):\n",
    "        self.age = age\n",
    "        self.gender = gender\n",
    "        self.drinking_behavior = drinking_behavior\n",
    "        self.social_norms = social_norms\n",
    "        self.social_motives = social_motives\n"
   ]
  },
  {
   "cell_type": "markdown",
   "id": "f745d092",
   "metadata": {},
   "source": [
    "Next, we will define the SocialNorms class:"
   ]
  },
  {
   "cell_type": "code",
   "execution_count": null,
   "id": "cd6e6ff2",
   "metadata": {},
   "outputs": [],
   "source": [
    "from mesa import Model, Agent\n",
    "from mesa.time import RandomActivation\n",
    "from mesa.space import NetworkGrid\n",
    "import networkx as nx\n",
    "import random\n",
    "\n",
    "class SocialNorms(Model):\n",
    "    def __init__(self, num_agents):\n",
    "        self.num_agents = num_agents\n",
    "        self.schedule = RandomActivation(self)\n",
    "        self.grid = NetworkGrid(nx.Graph())\n",
    "        self.network = self.create_social_network()\n",
    "        self.create_agents()\n",
    "\n",
    "    def create_social_network(self):\n",
    "        network = nx.Graph()\n",
    "        network.add_nodes_from(range(self.num_agents))\n",
    "        for i in range(self.num_agents):\n",
    "            for j in range(i+1, self.num_agents):\n",
    "                if random.random() < 0.3:\n",
    "                    network.add_edge(i, j)\n",
    "        return network\n",
    "\n",
    "    def create_agents(self):\n",
    "        for i in range(self.num_agents):\n",
    "            age = random.randint(18, 65)\n",
    "            drinking_behavior = random.random()\n",
    "            social_norms = random.random()\n",
    "            social_motives = random.random()\n",
    "            agent = Person(age, gender, drinking_behavior, social_norms, social_motives)\n",
    "            self.schedule.add(agent)\n",
    "            self.grid.place_agent(agent, i)\n"
   ]
  },
  {
   "cell_type": "markdown",
   "id": "3c87a99f",
   "metadata": {},
   "source": [
    "Now, we will define the get_opinion function that updates each person's drinking behavior based on their current perception of social norms and motives:"
   ]
  },
  {
   "cell_type": "code",
   "execution_count": null,
   "id": "bb0f2583",
   "metadata": {},
   "outputs": [],
   "source": [
    "def get_opinion(self):\n",
    "    \"\"\"Calculate the agent's opinion on alcohol consumption based on their own \n",
    "    behavior and the behavior of their peers, taking into account their \n",
    "    susceptibility to social influence.\n",
    "    \"\"\"\n",
    "    peer_alcohol = [n.get_alcohol() for n in self.get_peers()]\n",
    "    num_peers = len(peer_alcohol)\n",
    "    \n",
    "    if self.alcohol:\n",
    "        # Agent drinks alcohol\n",
    "        if num_peers == 0:\n",
    "            # No peers to compare to\n",
    "            return 1\n",
    "        else:\n",
    "            # Compare to peers and adjust based on susceptibility to social influence\n",
    "            peer_avg = sum(peer_alcohol) / num_peers\n",
    "            return self.alcohol_influence * (self.alcohol / peer_avg) + (1 - self.alcohol_influence)\n",
    "    else:\n",
    "        # Agent does not drink alcohol\n",
    "        if num_peers == 0:\n",
    "            # No peers to compare to\n",
    "            return 0\n",
    "        else:\n",
    "            # Compare to peers and adjust based on susceptibility to social influence\n",
    "            peer_avg = sum(peer_alcohol) / num_peers\n",
    "            return self.alcohol_influence * (1 - self.alcohol / peer_avg) + (1 - self.alcohol_influence)\n"
   ]
  },
  {
   "cell_type": "markdown",
   "id": "aba44b25",
   "metadata": {},
   "source": [
    "Alcohol consumption is a complex behavior that is influenced by a multitude of factors, including individual differences in susceptibility to social influence, social norms, and social motives. Social norms, which are the unwritten rules of behavior that are followed by members of a group or society, can be strong predictors of alcohol consumption behavior among college students. \n",
    "\n",
    "For inspiration, see https://doi.org/10.1016/j.addbeh.2012.07.004). This study found that both descriptive norms (i.e., the perceived prevalence of alcohol consumption) and injunctive norms (i.e., the perceived approval of drinking by peers) independently predicted alcohol consumption among college students. Furthermore, injunctive norms were further divided into distal (socially distant peers) and proximal (socially close peers), and proximal injunctive norms were found to have a stronger effect on drinking behavior than distal injunctive norms.\n",
    "\n",
    "In this hackathon, we will create an Agent-Based Model (ABM) to investigate how social norms and individual differences in susceptibility to social influence affect alcohol consumption behavior. \n",
    "\n",
    "One idea is to model a population of college students who are connected to each other through social networks, and whose alcohol consumption behavior is influenced by their own behavior as well as the behavior of their peers."
   ]
  },
  {
   "cell_type": "markdown",
   "id": "11d19f96",
   "metadata": {},
   "source": [
    "We could define a Person class that represents a college student, and a SocialNorms class that represents the ABM. The Person class could have attributes such as alcohol consumption behavior, susceptibility to social influence, and social network connections. The SocialNorms class would create a population of Person agents, assign them to social networks, and simulate the spread of alcohol consumption behavior through the networks over time."
   ]
  }
 ],
 "metadata": {
  "kernelspec": {
   "display_name": "Python 3 (ipykernel)",
   "language": "python",
   "name": "python3"
  },
  "language_info": {
   "codemirror_mode": {
    "name": "ipython",
    "version": 3
   },
   "file_extension": ".py",
   "mimetype": "text/x-python",
   "name": "python",
   "nbconvert_exporter": "python",
   "pygments_lexer": "ipython3",
   "version": "3.10.10"
  }
 },
 "nbformat": 4,
 "nbformat_minor": 5
}
